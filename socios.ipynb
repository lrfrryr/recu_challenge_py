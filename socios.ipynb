{
 "cells": [
  {
   "cell_type": "code",
   "execution_count": 1,
   "id": "36144114",
   "metadata": {},
   "outputs": [],
   "source": [
    "import pandas as pd"
   ]
  },
  {
   "cell_type": "markdown",
   "id": "df1ed502",
   "metadata": {},
   "source": [
    "## Challenge\n",
    "\n",
    "<P> Generar un programa que lea el contenido del archivo socios.csv y\n",
    "muestre por pantalla la siguiente información (puede ser a través de la consola):</P>\n",
    "<ul>\n",
    "  <li>Cantidad total de personas registradas</li>\n",
    "  <li>El promedio de edad de los socios de Racing</li>\n",
    "  <Li>Un listado con las 100 primeras personas casadas, con estudios\n",
    "Universitarios, ordenadas de menor a mayor según su edad. Por cada persona, mostrar: nombre, edad y equipo</li>\n",
    "  <Li>Un listado con los 5 nombres más comunes entre los hinchas de River</li>\n",
    "  <Li>Un listado, ordenado de mayor a menor según la cantidad de socios, que enumere, junto con cada equipo, \n",
    "      el promedio de edad de sus socios, la menor edad registrada y la mayor edad registrada</Li>\n",
    "</ul>\n",
    "<P>Asumo que los datos tienen un socio por línea y no se repiten</P>"
   ]
  },
  {
   "cell_type": "code",
   "execution_count": 2,
   "id": "74f246b1",
   "metadata": {},
   "outputs": [],
   "source": [
    "path = './'"
   ]
  },
  {
   "cell_type": "code",
   "execution_count": 3,
   "id": "947994b5",
   "metadata": {},
   "outputs": [],
   "source": [
    "socios = pd.read_csv(path + 'socios.csv', encoding='latin1', sep=';', header=None)"
   ]
  },
  {
   "cell_type": "code",
   "execution_count": 4,
   "id": "8e5cba13",
   "metadata": {},
   "outputs": [],
   "source": [
    "socios.columns = ['Nombre', 'Edad', 'Equipo','Estado Civil', 'Nivel de Estudios']"
   ]
  },
  {
   "cell_type": "code",
   "execution_count": 5,
   "id": "2e54923c",
   "metadata": {
    "scrolled": true
   },
   "outputs": [
    {
     "name": "stdout",
     "output_type": "stream",
     "text": [
      "<class 'pandas.core.frame.DataFrame'>\n",
      "RangeIndex: 50000 entries, 0 to 49999\n",
      "Data columns (total 5 columns):\n",
      " #   Column             Non-Null Count  Dtype \n",
      "---  ------             --------------  ----- \n",
      " 0   Nombre             50000 non-null  object\n",
      " 1   Edad               50000 non-null  int64 \n",
      " 2   Equipo             50000 non-null  object\n",
      " 3   Estado Civil       50000 non-null  object\n",
      " 4   Nivel de Estudios  50000 non-null  object\n",
      "dtypes: int64(1), object(4)\n",
      "memory usage: 1.9+ MB\n"
     ]
    }
   ],
   "source": [
    "socios.info()"
   ]
  },
  {
   "cell_type": "code",
   "execution_count": 6,
   "id": "ab1b1804",
   "metadata": {},
   "outputs": [
    {
     "name": "stdout",
     "output_type": "stream",
     "text": [
      "Existen  50000 personas registradas\n"
     ]
    }
   ],
   "source": [
    "# 1. Cantidad total de personas registradas\n",
    "\n",
    "print('Existen {:6d} personas registradas'.format(socios.shape[0]))"
   ]
  },
  {
   "cell_type": "code",
   "execution_count": 7,
   "id": "453ff16f",
   "metadata": {},
   "outputs": [
    {
     "name": "stdout",
     "output_type": "stream",
     "text": [
      "Los socios de Racing tienen 43.86 años en promedio\n"
     ]
    }
   ],
   "source": [
    "# 2. Promedio de edad de los socios de Racing\n",
    "\n",
    "print('Los socios de Racing tienen {:5.2f} años en promedio'.\\\n",
    "      format(socios[socios['Equipo'] == 'Racing']['Edad'].mean()))"
   ]
  },
  {
   "cell_type": "code",
   "execution_count": 8,
   "id": "40353a57",
   "metadata": {},
   "outputs": [
    {
     "data": {
      "text/plain": [
       "Universitario    16890\n",
       "Terciario        16613\n",
       "Secundario       16497\n",
       "Name: Nivel de Estudios, dtype: int64"
      ]
     },
     "execution_count": 8,
     "metadata": {},
     "output_type": "execute_result"
    }
   ],
   "source": [
    "# 3. Listado de las primeras 100 personas casadas, con estudios universitarios, ordenadas crecientemente por edad\n",
    "\n",
    "socios['Nivel de Estudios'].value_counts()"
   ]
  },
  {
   "cell_type": "code",
   "execution_count": 9,
   "id": "6bd6efb6",
   "metadata": {},
   "outputs": [
    {
     "data": {
      "text/plain": [
       "Casado     25041\n",
       "Soltero    24959\n",
       "Name: Estado Civil, dtype: int64"
      ]
     },
     "execution_count": 9,
     "metadata": {},
     "output_type": "execute_result"
    }
   ],
   "source": [
    "socios['Estado Civil'].value_counts()"
   ]
  },
  {
   "cell_type": "code",
   "execution_count": 10,
   "id": "251faf76",
   "metadata": {
    "scrolled": true
   },
   "outputs": [],
   "source": [
    "socios_filtrados = socios[(socios['Estado Civil']=='Casado') & (socios['Nivel de Estudios'] == 'Universitario')]\\\n",
    "    [['Nombre','Edad','Equipo']].sort_values(by='Edad').head(100)"
   ]
  },
  {
   "cell_type": "code",
   "execution_count": 11,
   "id": "43cccbca",
   "metadata": {},
   "outputs": [
    {
     "name": "stdout",
     "output_type": "stream",
     "text": [
      "\u001b[1mNombre     Edad Equipo\u001b[0m\n",
      "Luis         18 River\n",
      "Marcelo      18 Racing\n",
      "Juan         18 Gimnasia LP\n",
      "Anibal       18 Racing\n",
      "Martín       18 Boca\n",
      "Alejandro    18 Boca\n",
      "Juan         18 Boca\n",
      "Matías       18 River\n",
      "Enrique      18 River\n",
      "Agustín      18 Rosario Central\n",
      "Matías       18 Boca\n",
      "Alejo        18 Estudiantes\n",
      "Adrián       18 Gimnasia LP\n",
      "Fernando     18 Newells\n",
      "Daniel       18 Newells\n",
      "Federico     18 Estudiantes\n",
      "Anibal       18 Independiente\n",
      "Adrián       18 Rosario Central\n",
      "Anibal       18 Boca\n",
      "Luis         18 San Lorenzo\n",
      "Matías       18 San Lorenzo\n",
      "Mariano      18 Boca\n",
      "Enrique      18 San Lorenzo\n",
      "Juan         18 Racing\n",
      "Marcelo      18 Rosario Central\n",
      "Federico     18 Huracán\n",
      "Yago         18 Gimnasia LP\n",
      "Matías       18 Independiente\n",
      "Adrián       18 San Lorenzo\n",
      "Alejandro    18 Newells\n",
      "Nicolás      18 River\n",
      "Anibal       18 Gimnasia LP\n",
      "Fernando     18 Velez\n",
      "Adrián       18 Velez\n",
      "Fernando     18 San Lorenzo\n",
      "Santiago     18 Boca\n",
      "Federico     18 Estudiantes\n",
      "Marcelo      18 River\n",
      "Agustín      18 Rosario Central\n",
      "Yago         18 Velez\n",
      "Martín       18 Huracán\n",
      "Marcelo      18 San Lorenzo\n",
      "Adrián       18 Gimnasia LP\n",
      "Matías       18 Velez\n",
      "Fernando     18 Newells\n",
      "Juan         18 Boca\n",
      "Mariano      18 Huracán\n",
      "Adrián       18 Rosario Central\n",
      "Alejandro    18 Boca\n",
      "Yago         18 San Lorenzo\n",
      "Matías       18 Rosario Central\n",
      "Matías       18 Rosario Central\n",
      "Enrique      18 Huracán\n",
      "Javier       18 Rosario Central\n",
      "Nicolás      18 Estudiantes\n",
      "Daniel       18 Velez\n",
      "Marcelo      18 Rosario Central\n",
      "Alejo        18 Newells\n",
      "Santiago     18 Velez\n",
      "Luis         18 River\n",
      "Mariano      18 San Lorenzo\n",
      "Javier       18 Gimnasia LP\n",
      "Mariano      18 San Lorenzo\n",
      "Marcelo      18 Newells\n",
      "Juan         18 Gimnasia LP\n",
      "Luis         18 Racing\n",
      "Yago         18 Boca\n",
      "Santiago     18 Gimnasia LP\n",
      "Nicolás      18 Gimnasia LP\n",
      "Enrique      18 Huracán\n",
      "Santiago     18 Newells\n",
      "Alejo        18 Newells\n",
      "Javier       18 Independiente\n",
      "Agustín      18 River\n",
      "Alejo        18 Gimnasia LP\n",
      "Nicolás      18 Gimnasia LP\n",
      "Javier       18 Velez\n",
      "Mauro        18 Boca\n",
      "Santiago     18 Velez\n",
      "Mariano      18 Independiente\n",
      "Santiago     18 River\n",
      "Anibal       18 Gimnasia LP\n",
      "Agustín      18 Huracán\n",
      "Javier       18 Independiente\n",
      "Juan         18 Racing\n",
      "Martín       18 Independiente\n",
      "Javier       18 Velez\n",
      "Luis         18 Newells\n",
      "Agustín      18 Independiente\n",
      "Daniel       18 Estudiantes\n",
      "Daniel       18 River\n",
      "Juan         18 Huracán\n",
      "Mauro        18 Independiente\n",
      "Mauro        18 Gimnasia LP\n",
      "Daniel       18 Boca\n",
      "Santiago     18 Boca\n",
      "Mauro        18 Racing\n",
      "Agustín      18 Estudiantes\n",
      "Luis         18 Huracán\n",
      "Juan         18 Velez\n"
     ]
    }
   ],
   "source": [
    "bold_start = \"\\033[1m\"\n",
    "bold_end = \"\\033[0m\"\n",
    "print(f'{bold_start}{\"Nombre\":10s} {\"Edad\":4s} {\"Equipo\"}{bold_end}')\n",
    "\n",
    "for i in range(socios_filtrados.shape[0]):\n",
    "    print('{:10s} {:4d} {:s}'.format(socios_filtrados.iloc[i,:]['Nombre'], socios_filtrados.iloc[i,:]['Edad'], socios_filtrados.iloc[i,:]['Equipo']))"
   ]
  },
  {
   "cell_type": "code",
   "execution_count": 12,
   "id": "31c2867c",
   "metadata": {},
   "outputs": [
    {
     "name": "stdout",
     "output_type": "stream",
     "text": [
      "Los 5 nombres más comunes hinchas de River son:\n",
      " ['Daniel', 'Luis', 'Nicolás', 'Matías', 'Martín']\n"
     ]
    }
   ],
   "source": [
    "# 4. Los 5 nombres mas comunes de hinchas de River\n",
    "print('Los 5 nombres más comunes hinchas de River son:\\n',\\\n",
    "      list(socios[socios['Equipo'] == 'River']['Nombre'].value_counts().head(5).index))"
   ]
  },
  {
   "cell_type": "code",
   "execution_count": 13,
   "id": "812f8295",
   "metadata": {},
   "outputs": [
    {
     "name": "stdout",
     "output_type": "stream",
     "text": [
      "                 cantidad  edad promedio  edad mínima  edad máxima\n",
      "Equipo                                                            \n",
      "Newells              4668          43.57           18           70\n",
      "San Lorenzo          4626          44.11           18           70\n",
      "Rosario Central      4610          43.96           18           70\n",
      "Boca                 4577          43.96           18           70\n",
      "Huracán              4556          44.24           18           70\n",
      "River                4551          43.89           18           70\n",
      "Gimnasia LP          4525          44.45           18           70\n",
      "Velez                4513          44.27           18           70\n",
      "Independiente        4468          43.94           18           70\n",
      "Racing               4463          43.86           18           70\n",
      "Estudiantes          4443          43.83           18           70\n"
     ]
    }
   ],
   "source": [
    "# 5. Listado de cantidad de socios por equipo, ordenados decrecientemente\n",
    "\n",
    "socios_agg = socios.groupby('Equipo').agg({'Equipo':'count','Edad': ['mean','min','max']}).\\\n",
    "    sort_values(('Equipo','count'), ascending=False)\n",
    "\n",
    "socios_agg.columns = ['cantidad', 'edad promedio', 'edad mínima', 'edad máxima']\n",
    "socios_agg['edad promedio'] = socios_agg['edad promedio'].round(2)\n",
    "print(socios_agg)"
   ]
  }
 ],
 "metadata": {
  "kernelspec": {
   "display_name": "Python 3 (ipykernel)",
   "language": "python",
   "name": "python3"
  },
  "language_info": {
   "codemirror_mode": {
    "name": "ipython",
    "version": 3
   },
   "file_extension": ".py",
   "mimetype": "text/x-python",
   "name": "python",
   "nbconvert_exporter": "python",
   "pygments_lexer": "ipython3",
   "version": "3.8.10"
  }
 },
 "nbformat": 4,
 "nbformat_minor": 5
}
